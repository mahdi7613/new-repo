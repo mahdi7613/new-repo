{
 "cells": [
  {
   "cell_type": "markdown",
   "id": "25233bff",
   "metadata": {},
   "source": [
    "# Database"
   ]
  },
  {
   "cell_type": "markdown",
   "id": "88f4d265",
   "metadata": {},
   "source": [
    "### what is Database ?"
   ]
  },
  {
   "cell_type": "markdown",
   "id": "a26daa10",
   "metadata": {},
   "source": [
    "<div class=\"alert alert-block alert-info\">\n",
    "A structured set of computerized data with an accessible interface.\n",
    "</div>    "
   ]
  },
  {
   "cell_type": "markdown",
   "id": "cdb0cd42",
   "metadata": {},
   "source": [
    "### Database Management System(DBMS)"
   ]
  },
  {
   "cell_type": "markdown",
   "id": "63612484",
   "metadata": {},
   "source": [
    "<div class=\"alert alert-block alert-info\">\n",
    "software systems used to store, retrieve, and run queries on data.\n",
    "    </div>\n",
    "    "
   ]
  },
  {
   "cell_type": "markdown",
   "id": "c9cdcef8",
   "metadata": {},
   "source": [
    "### Popular Types Of DBMS"
   ]
  },
  {
   "cell_type": "markdown",
   "id": "611aaee8",
   "metadata": {},
   "source": [
    "<div class=\"alert alert-block alert-success\">\n",
    "    1.Postgre SQL<br>\n",
    "    2.MySQL<br>\n",
    "    3.Oracle Database<br>\n",
    "    4.SQLite\n",
    "</div>"
   ]
  },
  {
   "cell_type": "markdown",
   "id": "e330c57b",
   "metadata": {},
   "source": [
    "### SQL"
   ]
  },
  {
   "cell_type": "markdown",
   "id": "ff1ef0dd",
   "metadata": {},
   "source": [
    "<div class=\"alert alert-block alert-info\">\n",
    "- SQL is the language we use to \"talk\" to our database\n",
    "</div>    "
   ]
  },
  {
   "cell_type": "markdown",
   "id": "9d06a103",
   "metadata": {},
   "source": [
    "### note :"
   ]
  },
  {
   "cell_type": "markdown",
   "id": "370f6078",
   "metadata": {},
   "source": [
    "<div class=\"alert alert-block alert-danger\">\n",
    "working with MySQL is primarily writing SQL\n",
    "</div>    "
   ]
  },
  {
   "cell_type": "markdown",
   "id": "07c68956",
   "metadata": {},
   "source": [
    "### Database Commands"
   ]
  },
  {
   "cell_type": "markdown",
   "id": "2be62620",
   "metadata": {},
   "source": [
    "<div class=\"alert alert-block alert-info\">\n",
    "    SHOW DATABASES<br><br>\n",
    "    - what databases currently exist\n",
    "</div>"
   ]
  },
  {
   "cell_type": "markdown",
   "id": "9e65fcaf",
   "metadata": {},
   "source": [
    "<div class=\"alert alert-block alert-danger\">\n",
    "    Remember -> Do not put space in database name.\n",
    "</div>"
   ]
  },
  {
   "cell_type": "markdown",
   "id": "ff2e3567",
   "metadata": {},
   "source": [
    "<div class=\"alert alert-block alert-info\">\n",
    "    <p>CREATE DATABASE  \"db_name\"</p><br>\n",
    "    - create new database\n",
    "    \n",
    "</div>"
   ]
  },
  {
   "cell_type": "markdown",
   "id": "3958448c",
   "metadata": {},
   "source": [
    "<div class=\"alert alert-block alert-info\">\n",
    "    DROP DATABASE \"DB_NAME\"<br><br>\n",
    "    - Remove a database entirely and all of it's contents.\n",
    "</div>"
   ]
  },
  {
   "cell_type": "markdown",
   "id": "0e854048",
   "metadata": {},
   "source": [
    "<div class=\"alert alert-block alert-info\">\n",
    "    Use \"DB_NAME\"<br><br>\n",
    "    - selecting it as what we want to be working inside\n",
    "</div>"
   ]
  },
  {
   "cell_type": "markdown",
   "id": "a127a138",
   "metadata": {},
   "source": [
    "<div class=\"alert alert-block alert-success\">\n",
    "    SELECT DATABASE()<br><br>\n",
    "    - showing the current selected database\n",
    "</div>"
   ]
  },
  {
   "cell_type": "markdown",
   "id": "f42701d5",
   "metadata": {},
   "source": [
    "## Table"
   ]
  },
  {
   "cell_type": "markdown",
   "id": "03a0278b",
   "metadata": {},
   "source": [
    "<div class=\"alert alert-block alert-info\">\n",
    "    A Collection of related data held in a \"structured format\" within a database\n",
    "</div>"
   ]
  },
  {
   "cell_type": "markdown",
   "id": "f9a56df6",
   "metadata": {},
   "source": [
    "<div class=\"alert alert-block alert-danger\">\n",
    "    Remember -> Databases are made up of lots of tables\n",
    "</div>"
   ]
  },
  {
   "cell_type": "markdown",
   "id": "9fa67a18",
   "metadata": {},
   "source": [
    "## Data types"
   ]
  },
  {
   "cell_type": "markdown",
   "id": "45f87a00",
   "metadata": {},
   "source": [
    "### 1. Numeric Types"
   ]
  },
  {
   "cell_type": "markdown",
   "id": "fd0ffbcd",
   "metadata": {},
   "source": [
    "<div class=\"alert alert-block alert-success\">\n",
    "    INT - SMALLINT - TINYINT - DECIMAL FLOAT - DOUBLE and ...\n",
    "</div>"
   ]
  },
  {
   "cell_type": "markdown",
   "id": "8cb5e91e",
   "metadata": {},
   "source": [
    "### 2. String types"
   ]
  },
  {
   "cell_type": "markdown",
   "id": "d5596a9e",
   "metadata": {},
   "source": [
    "<div class=\"alert alert-block alert-success\">\n",
    "    CHAR - VARCHAR - BINARY - BLOB and ...\n",
    "</div>"
   ]
  },
  {
   "cell_type": "markdown",
   "id": "7f15239c",
   "metadata": {},
   "source": [
    "### 3. Date types"
   ]
  },
  {
   "cell_type": "markdown",
   "id": "cd8f5f1d",
   "metadata": {},
   "source": [
    "<div class=\"alert alert-block alert-success\">\n",
    "    DATE - DATETIME - TIMESTAMP - TIME - YEAR\n",
    "</div>"
   ]
  },
  {
   "cell_type": "markdown",
   "id": "a577c7d7",
   "metadata": {},
   "source": [
    "# ---------------------------------------------------------------------------------------------------------------"
   ]
  },
  {
   "cell_type": "markdown",
   "id": "af4a79b0",
   "metadata": {},
   "source": [
    "# Table Commands"
   ]
  },
  {
   "cell_type": "markdown",
   "id": "62e6321c",
   "metadata": {},
   "source": [
    "<div class=\"alert alert-block alert-info\">\n",
    "    CREATE TABLE \"TABLE_NAME\" (column_name data_type , column_name data_type)<br><br>\n",
    "    - Create table\n",
    "</div>"
   ]
  },
  {
   "cell_type": "markdown",
   "id": "ed1bac20",
   "metadata": {},
   "source": [
    "<div class=\"alert alert-block alert-info\">\n",
    "    SHOW TABLES<br><br>\n",
    "    - Show the tables from our current database\n",
    "</div>"
   ]
  },
  {
   "cell_type": "markdown",
   "id": "366d48d2",
   "metadata": {},
   "source": [
    "<div class=\"alert alert-block alert-info\">\n",
    "    DROP TABLE \"TABLE_NAME\"<br><br>\n",
    "    - Delete a table\n",
    "</div>"
   ]
  },
  {
   "cell_type": "markdown",
   "id": "bbfbed22",
   "metadata": {},
   "source": [
    "### Create Comments in MySQL"
   ]
  },
  {
   "cell_type": "markdown",
   "id": "d51922c7",
   "metadata": {},
   "source": [
    "<div class=\"alert alert-block alert-success\">\n",
    "    Use \"#\" to create comment in MySQL\n",
    "</div>"
   ]
  },
  {
   "cell_type": "markdown",
   "id": "ac6fd5e2",
   "metadata": {},
   "source": [
    "<div class=\"alert alert-block alert-info\">\n",
    "    INSERT INTO \"TABLE_NAME\" (COLUMN_NAME) VALUES (VALUE)<br><br>\n",
    "    - insert data into table\n",
    "</div>"
   ]
  },
  {
   "cell_type": "markdown",
   "id": "06cd71a8",
   "metadata": {},
   "source": [
    "<div class=\"alert alert-block alert-danger\">\n",
    "    Remember -> The order matters in inserting data into the table\n",
    "</div>"
   ]
  },
  {
   "cell_type": "markdown",
   "id": "ae1a6c71",
   "metadata": {},
   "source": [
    "<div class=\"alert alert-block alert-info\">\n",
    "    SELECT * FROM \"TABLE_NAME\"<br><br>\n",
    "    - To show everything in the table\n",
    "</div>"
   ]
  },
  {
   "cell_type": "markdown",
   "id": "78ff6dd4",
   "metadata": {},
   "source": [
    "### Primary Key"
   ]
  },
  {
   "cell_type": "markdown",
   "id": "0ee650fd",
   "metadata": {},
   "source": [
    "<div class=\"alert alert-block alert-success\">\n",
    "    A unique identifier\n",
    "</div>"
   ]
  },
  {
   "cell_type": "markdown",
   "id": "158800f5",
   "metadata": {},
   "source": [
    "<div class=\"alert alert-block alert-warning\">\n",
    "    Example : <br>\n",
    "        CREATE TABLE \"TABLE_NAME\" (id INT PRIMARY KEY)\n",
    "</div>"
   ]
  },
  {
   "cell_type": "markdown",
   "id": "67a6c4d1",
   "metadata": {},
   "source": [
    "<div class=\"alert alert-block alert-danger\">\n",
    "    Remember -> Primary key cannot be Null\n",
    "</div>"
   ]
  },
  {
   "cell_type": "markdown",
   "id": "1a010007",
   "metadata": {},
   "source": [
    "### Auto_Increment"
   ]
  },
  {
   "cell_type": "markdown",
   "id": "99e4046d",
   "metadata": {},
   "source": [
    "<div class=\"alert alert-block alert-success\">\n",
    "The auto increment in SQL is a feature that is applied to a field so that it can automatically generate and provide a unique value to every record that you enter into an SQL table.\n",
    "</div>"
   ]
  },
  {
   "cell_type": "markdown",
   "id": "c2bcdda5",
   "metadata": {},
   "source": [
    "<div class=\"alert alert-block alert-warning\">\n",
    "    Example : <br>\n",
    "        CREATE TABLE \"TABLE_NAME\" (id INT PRIMARY KEY AUTO_INCREMENT)\n",
    "</div>"
   ]
  },
  {
   "cell_type": "markdown",
   "id": "ee46720d",
   "metadata": {},
   "source": [
    "### CRUD"
   ]
  },
  {
   "cell_type": "markdown",
   "id": "95af5da1",
   "metadata": {},
   "source": [
    "<div class=\"alert alert-block alert-success\">\n",
    "    CRUD is the acronym for CREATE, READ, UPDATE and DELETE. These terms describe the four essential operations for creating and managing persistent data elements, mainly in relational and NoSQL databases.\n",
    "</div>"
   ]
  },
  {
   "cell_type": "code",
   "execution_count": null,
   "id": "0123e64e",
   "metadata": {},
   "outputs": [],
   "source": []
  }
 ],
 "metadata": {
  "kernelspec": {
   "display_name": "Python 3 (ipykernel)",
   "language": "python",
   "name": "python3"
  },
  "language_info": {
   "codemirror_mode": {
    "name": "ipython",
    "version": 3
   },
   "file_extension": ".py",
   "mimetype": "text/x-python",
   "name": "python",
   "nbconvert_exporter": "python",
   "pygments_lexer": "ipython3",
   "version": "3.9.13"
  }
 },
 "nbformat": 4,
 "nbformat_minor": 5
}
