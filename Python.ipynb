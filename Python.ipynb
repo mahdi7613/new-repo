{
 "cells": [
  {
   "cell_type": "markdown",
   "id": "f3e87a04",
   "metadata": {},
   "source": [
    "# What is Python?"
   ]
  },
  {
   "cell_type": "markdown",
   "id": "12d1b3bc",
   "metadata": {},
   "source": [
    "**Python** is a high-level, general-purpose programming language. Its design philosophy emphasizes code readability with the use of significant indentation. Python is dynamically typed and garbage-collected. It supports multiple programming paradigms, including structured, object-oriented and functional programming\n"
   ]
  },
  {
   "cell_type": "markdown",
   "id": "1151bbbd",
   "metadata": {},
   "source": [
    "<div class=\"alert alert-block alert-info\">\n",
    "It was created by Guido van Rossum, and released in 1991.\n",
    "</div>    "
   ]
  },
  {
   "cell_type": "markdown",
   "id": "ffe12f18",
   "metadata": {},
   "source": [
    "### It is used for:\n",
    "    1. web development(server-side)\n",
    "    2. software development\n",
    "    3. mathematics\n",
    "    4. system scripting\n",
    "    5 Machine Learning\n",
    "    6. Deep Learning\n",
    "   \n",
    "   "
   ]
  },
  {
   "cell_type": "markdown",
   "id": "64b4e7fd",
   "metadata": {},
   "source": [
    "## Python Syntax compared to other programming languages"
   ]
  },
  {
   "cell_type": "markdown",
   "id": "24057a8b",
   "metadata": {},
   "source": [
    "<ul>\n",
    "    <li>Python was designed for readability, and has some similarities to the English language with influence from mathematics.</li>\n",
    "    <li>Python uses new lines to complete a command, as opposed to other programming languages which often use semicolons or parentheses.</li>\n",
    "    <li>\n",
    "        Python relies on indentation, using whitespace, to define scope; such as the scope of loops, functions and classes. Other programming languages often use curly-brackets for this purpose.\n",
    "    </li>\n",
    "</ul>"
   ]
  },
  {
   "cell_type": "markdown",
   "id": "434c9e5e",
   "metadata": {},
   "source": [
    "# Python Syntax"
   ]
  },
  {
   "cell_type": "markdown",
   "id": "a0195a5d",
   "metadata": {},
   "source": [
    "### Python Indentation\n",
    "Indentation refers to the spaces at the beginning of a code line.\n",
    "Where in other programming languages the indentation in code is for readability only, the indentation in Python is very important.\n"
   ]
  },
  {
   "cell_type": "markdown",
   "id": "63ecc332",
   "metadata": {},
   "source": [
    "<div class=\"alert alert-block alert-info\">\n",
    "Python uses indentation to indicate a block of code\n",
    "    </div>\n",
    "\n"
   ]
  },
  {
   "cell_type": "code",
   "execution_count": 11,
   "id": "6d83d08a",
   "metadata": {},
   "outputs": [
    {
     "name": "stdout",
     "output_type": "stream",
     "text": [
      "Five is greater than two!\n"
     ]
    }
   ],
   "source": [
    "if 5 > 2\n",
    "     print(\"Five is greater than two!\")"
   ]
  },
  {
   "cell_type": "markdown",
   "id": "653a0488",
   "metadata": {},
   "source": [
    "# Python Variables"
   ]
  },
  {
   "cell_type": "markdown",
   "id": "ac5b605c",
   "metadata": {},
   "source": [
    "In Python, variables are created when you assign a value to it:<br>\n",
    "x = 5<br>\n",
    "y = \"Hello, World!\""
   ]
  },
  {
   "cell_type": "markdown",
   "id": "bc7bcb71",
   "metadata": {},
   "source": [
    "# Comments"
   ]
  },
  {
   "cell_type": "markdown",
   "id": "c3c323af",
   "metadata": {},
   "source": [
    "Comments start with a #, and Python will render the rest of the line as a comment:<br>\n"
   ]
  },
  {
   "cell_type": "markdown",
   "id": "ee1ebff0",
   "metadata": {},
   "source": [
    "<div class=\"alert alert-block alert-danger\">\n",
    "#This is a comment.\n",
    "</div>    "
   ]
  },
  {
   "cell_type": "markdown",
   "id": "1ecae802",
   "metadata": {},
   "source": [
    "# Python Data Types"
   ]
  },
  {
   "cell_type": "markdown",
   "id": "46225494",
   "metadata": {},
   "source": [
    " In programming, data type is an important concept.<br>\n",
    " Variables can store data of different types, and different types can do different things.<br>\n",
    " Python has the following data types built-in by default, in these categories:"
   ]
  },
  {
   "cell_type": "markdown",
   "id": "93b53226",
   "metadata": {},
   "source": [
    "<div class=\"alert alert-block alert-info\">\n",
    "<ul>\n",
    "    <li>Text Type:\tstr<br>\n",
    "    <li>Numeric Types:\tint, float, complex<br>\n",
    "    <li>Sequence Types:\tlist, tuple, range<br>\n",
    "    <li>Mapping Type:\tdict<br>\n",
    "    <li>Set Types:\tset, frozenset<br>\n",
    "    <li>Boolean Type:\tbool<br>\n",
    "    <li>Binary Types:\tbytes, bytearray, memoryview<br>\n",
    "    <li>None Type:\tNoneType<br>\n",
    "<ul>\n",
    "    </div>\n"
   ]
  },
  {
   "cell_type": "markdown",
   "id": "53b4cd5a",
   "metadata": {},
   "source": [
    "# Getting the Data Type"
   ]
  },
  {
   "cell_type": "markdown",
   "id": "8ce89b8f",
   "metadata": {},
   "source": [
    "You can get the data type of any object by using the `type()` function"
   ]
  },
  {
   "cell_type": "markdown",
   "id": "21aaf139",
   "metadata": {},
   "source": [
    "# Python Arithmetic Operators"
   ]
  },
  {
   "cell_type": "markdown",
   "id": "b1f6c10a",
   "metadata": {},
   "source": [
    "<tbody><tr>\n",
    "<th style=\"width:25%\">Operator</th>\n",
    "<th style=\"width:35%\">Name</th>\n",
    "<th style=\"width:30%\">Example</th>\n",
    "\n",
    "</tr>\n",
    "<tr>\n",
    "<td>+</td>\n",
    "<td>Addition</td>\n",
    "<td>x + y</td>\n",
    "\n",
    "</tr>\n",
    "<tr>\n",
    "<td>-</td>\n",
    "<td>Subtraction</td>\n",
    "<td>x - y</td>\n",
    "\n",
    "</tr>\n",
    "<tr>\n",
    "<td>*</td>\n",
    "<td>Multiplication</td>\n",
    "<td>x * y</td>\n",
    "\n",
    "</tr>\n",
    "<tr>\n",
    "<td>/</td>\n",
    "<td>Division</td>\n",
    "<td>x / y</td>\n",
    "\n",
    "</tr>\n",
    "<tr>\n",
    "<td>%</td>\n",
    "<td>Modulus</td>\n",
    "<td>x % y</td>\n",
    "</tr>\n",
    "  <tr>\n",
    "<td>**</td>\n",
    "<td>Exponentiation</td>\n",
    "<td>x ** y</td>\n",
    "\n",
    "  </tr>\n",
    "<tr>\n",
    "<td>//</td>\n",
    "<td>Floor division</td>\n",
    "<td>x // y</td>\n",
    "\n",
    "</tr>\n",
    "</tbody>"
   ]
  },
  {
   "cell_type": "markdown",
   "id": "a9204c92",
   "metadata": {},
   "source": [
    "# Python Assignment Operators"
   ]
  },
  {
   "cell_type": "markdown",
   "id": "e80a5e3f",
   "metadata": {},
   "source": [
    "<tbody><tr>\n",
    "<th style=\"width:25%\">Operator</th>\n",
    "<th style=\"width:20%\">Example</th>\n",
    "<th style=\"width:20%\">Same As</th>\n",
    "\n",
    "</tr>\n",
    "<tr>\n",
    "<td>=</td>\n",
    "<td>x = 5</td>\n",
    "<td>x = 5</td>\n",
    "\n",
    "</tr>\n",
    "  <tr>\n",
    "<td>+=</td>\n",
    "<td>x += 3</td>\n",
    "<td>x = x + 3</td>\n",
    "\n",
    "  </tr>\n",
    "  <tr>\n",
    "<td>-=</td>\n",
    "<td>x -= 3</td>\n",
    "<td>x = x - 3</td>\n",
    "\n",
    "  </tr>\n",
    "  <tr>\n",
    "<td>*=</td>\n",
    "<td>x *= 3</td>\n",
    "<td>x = x * 3</td>\n",
    "\n",
    "  </tr>\n",
    "  <tr>\n",
    "<td>/=</td>\n",
    "<td>x /= 3</td>\n",
    "<td>x = x / 3</td>\n",
    "\n",
    "  </tr>\n",
    "  <tr>\n",
    "<td>%=</td>\n",
    "<td>x %= 3</td>\n",
    "<td>x = x % 3</td>\n",
    "\n",
    "  </tr>\n",
    "  <tr>\n",
    "<td>//=</td>\n",
    "<td>x //= 3</td>\n",
    "<td>x = x // 3</td>\n",
    "\n",
    "  </tr>\n",
    "  <tr>\n",
    "<td>**=</td>\n",
    "<td>x **= 3</td>\n",
    "<td>x = x ** 3</td>\n",
    "\n",
    "  </tr>\n",
    "  <tr>\n",
    "<td>&amp;=</td>\n",
    "<td>x &amp;= 3</td>\n",
    "<td>x = x &amp; 3</td>\n",
    "\n",
    "  </tr>\n",
    "  <tr>\n",
    "<td>|=</td>\n",
    "<td>x |= 3</td>\n",
    "<td>x = x | 3</td>\n",
    "\n",
    "  </tr>\n",
    "<tr>\n",
    "<td>^=</td>\n",
    "<td>x ^= 3</td>\n",
    "<td>x = x ^ 3</td>\n",
    "\n",
    "</tr>\n",
    "<tr>\n",
    "<td>&gt;&gt;=</td>\n",
    "<td>x &gt;&gt;= 3</td>\n",
    "<td>x = x &gt;&gt; 3</td>\n",
    "\n",
    "</tr>\n",
    "<tr>\n",
    "<td>&lt;&lt;=</td>\n",
    "<td>x &lt;&lt;= 3</td>\n",
    "<td>x = x &lt;&lt; 3</td>\n",
    "\n",
    "</tr>\n",
    "<tr>\n",
    "<td>:=</td>\n",
    "<td>print(x := 3)</td>\n",
    "<td>x = 3<br>print(x)</td>\n",
    "\n",
    "</tr>\n",
    "</tbody>"
   ]
  },
  {
   "cell_type": "markdown",
   "id": "7bd64876",
   "metadata": {},
   "source": [
    "# Python Lists"
   ]
  },
  {
   "cell_type": "markdown",
   "id": "b0bb7f8c",
   "metadata": {},
   "source": [
    "Lists are used to store multiple items in a single variable."
   ]
  },
  {
   "cell_type": "code",
   "execution_count": 9,
   "id": "af90e5ab",
   "metadata": {},
   "outputs": [],
   "source": [
    "mylist = [\"apple\", \"banana\", \"cherry\"]"
   ]
  },
  {
   "cell_type": "markdown",
   "id": "a7eed4ff",
   "metadata": {},
   "source": [
    "# Python Tuples"
   ]
  },
  {
   "cell_type": "markdown",
   "id": "bfa7226b",
   "metadata": {},
   "source": [
    "Tuples are used to store multiple items in a single variable."
   ]
  },
  {
   "cell_type": "code",
   "execution_count": 12,
   "id": "5e7effb6",
   "metadata": {},
   "outputs": [],
   "source": [
    "mytuple = (\"apple\", \"banana\", \"cherry\")"
   ]
  },
  {
   "cell_type": "markdown",
   "id": "6637299e",
   "metadata": {},
   "source": [
    "# Python Sets"
   ]
  },
  {
   "cell_type": "markdown",
   "id": "6d315491",
   "metadata": {},
   "source": [
    "Sets are used to store multiple items in a single variable."
   ]
  },
  {
   "cell_type": "code",
   "execution_count": 13,
   "id": "4eab96d6",
   "metadata": {},
   "outputs": [],
   "source": [
    "myset = {\"apple\", \"banana\", \"cherry\"}"
   ]
  },
  {
   "cell_type": "markdown",
   "id": "93151ee2",
   "metadata": {},
   "source": [
    "# Python Dictionaries"
   ]
  },
  {
   "cell_type": "markdown",
   "id": "7336e4b5",
   "metadata": {},
   "source": [
    "Dictionaries are used to store data values in key:value pairs."
   ]
  },
  {
   "cell_type": "code",
   "execution_count": 14,
   "id": "693025e8",
   "metadata": {},
   "outputs": [],
   "source": [
    "thisdict = {\n",
    "  \"brand\": \"Ford\",\n",
    "  \"model\": \"Mustang\",\n",
    "  \"year\": 1964\n",
    "}"
   ]
  },
  {
   "cell_type": "markdown",
   "id": "c9542b5b",
   "metadata": {},
   "source": [
    "# Python If ... Else"
   ]
  },
  {
   "cell_type": "markdown",
   "id": "469f6b90",
   "metadata": {},
   "source": [
    "Python supports the usual logical conditions from mathematics:"
   ]
  },
  {
   "cell_type": "markdown",
   "id": "01cdce40",
   "metadata": {},
   "source": [
    "<ul>\n",
    "<li>Equals: <span class=\"w3-codespan\">a == b</span></li>\n",
    "<li>Not Equals: <span class=\"w3-codespan\">a != b</span></li>\n",
    "<li>Less than: <span class=\"w3-codespan\">a &lt; b</span></li>\n",
    "<li>Less than or equal to: <span class=\"w3-codespan\">a &lt;= b</span></li>\n",
    "<li>Greater than: <span class=\"w3-codespan\">a &gt; b</span></li>\n",
    "<li>Greater than or equal to: <span class=\"w3-codespan\">a &gt;= b</span></li>\n",
    "</ul>"
   ]
  },
  {
   "cell_type": "code",
   "execution_count": 15,
   "id": "96d2dcb0",
   "metadata": {},
   "outputs": [
    {
     "name": "stdout",
     "output_type": "stream",
     "text": [
      "a and b are equal\n"
     ]
    }
   ],
   "source": [
    "a = 33\n",
    "b = 33\n",
    "if b > a:\n",
    "  print(\"b is greater than a\")\n",
    "elif a == b:\n",
    "  print(\"a and b are equal\")"
   ]
  },
  {
   "cell_type": "markdown",
   "id": "7fb41aa2",
   "metadata": {},
   "source": [
    "# Python Loops"
   ]
  },
  {
   "cell_type": "markdown",
   "id": "fbeb40c2",
   "metadata": {},
   "source": [
    "Python has two primitive loop commands:"
   ]
  },
  {
   "cell_type": "markdown",
   "id": "9f40b197",
   "metadata": {},
   "source": [
    "<ul>\n",
    "<li><span class=\"w3-codespan\">while</span> loops</li>\n",
    "<li><span class=\"w3-codespan\">for</span> loops</li>\n",
    "</ul>"
   ]
  },
  {
   "cell_type": "markdown",
   "id": "426c4e5b",
   "metadata": {},
   "source": [
    "## While Loop"
   ]
  },
  {
   "cell_type": "code",
   "execution_count": 16,
   "id": "65a18301",
   "metadata": {},
   "outputs": [
    {
     "name": "stdout",
     "output_type": "stream",
     "text": [
      "1\n",
      "2\n",
      "3\n",
      "4\n",
      "5\n"
     ]
    }
   ],
   "source": [
    "i = 1\n",
    "while i < 6:\n",
    "  print(i)\n",
    "  i += 1"
   ]
  },
  {
   "cell_type": "markdown",
   "id": "5011c634",
   "metadata": {},
   "source": [
    "## For Loop"
   ]
  },
  {
   "cell_type": "code",
   "execution_count": 17,
   "id": "c3da0fa8",
   "metadata": {},
   "outputs": [
    {
     "name": "stdout",
     "output_type": "stream",
     "text": [
      "apple\n",
      "banana\n"
     ]
    }
   ],
   "source": [
    "fruits = [\"apple\", \"banana\", \"cherry\"]\n",
    "for x in fruits:\n",
    "  print(x)\n",
    "  if x == \"banana\":\n",
    "    break"
   ]
  },
  {
   "cell_type": "code",
   "execution_count": null,
   "id": "dd1f57fd",
   "metadata": {},
   "outputs": [],
   "source": []
  }
 ],
 "metadata": {
  "kernelspec": {
   "display_name": "Python 3 (ipykernel)",
   "language": "python",
   "name": "python3"
  },
  "language_info": {
   "codemirror_mode": {
    "name": "ipython",
    "version": 3
   },
   "file_extension": ".py",
   "mimetype": "text/x-python",
   "name": "python",
   "nbconvert_exporter": "python",
   "pygments_lexer": "ipython3",
   "version": "3.9.13"
  }
 },
 "nbformat": 4,
 "nbformat_minor": 5
}
