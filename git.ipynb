{
 "cells": [
  {
   "cell_type": "markdown",
   "id": "ffb8a732",
   "metadata": {},
   "source": [
    "# Git & GitHub"
   ]
  },
  {
   "cell_type": "markdown",
   "id": "b258d256",
   "metadata": {},
   "source": [
    "## What is Git ?"
   ]
  },
  {
   "cell_type": "markdown",
   "id": "8a5af24e",
   "metadata": {},
   "source": [
    "### Git is a distributed version control system that tracks changes in any set of computer files, usually used for coordinating work among programmers who are collaboratively developing source code during software development. Git's goals include speed, data integrity, and support for distributed, non-linear workflows."
   ]
  },
  {
   "cell_type": "markdown",
   "id": "ffcb3fe6",
   "metadata": {},
   "source": [
    "## What is GitHub ?"
   ]
  },
  {
   "cell_type": "markdown",
   "id": "4f8ef58e",
   "metadata": {},
   "source": [
    "### GitHub is a developer platform that allows developers to create, store, manage and share their code. It uses Git software, providing the distributed version control of Git plus access control, bug tracking, software feature requests, task management, continuous integration, and wikis for every project."
   ]
  },
  {
   "cell_type": "markdown",
   "id": "7280ddcd",
   "metadata": {},
   "source": [
    "# Git Commands"
   ]
  },
  {
   "cell_type": "markdown",
   "id": "74db6708",
   "metadata": {},
   "source": [
    "### 1. Configure the author name and email address to be used with your commits."
   ]
  },
  {
   "cell_type": "markdown",
   "id": "24309ade",
   "metadata": {},
   "source": [
    "- git config --global user.name \"Mahdi Zolfaghari\""
   ]
  },
  {
   "cell_type": "markdown",
   "id": "13c009cf",
   "metadata": {},
   "source": [
    "- git config --global user.email Mahdi Zolfaghari"
   ]
  },
  {
   "cell_type": "markdown",
   "id": "e75026a9",
   "metadata": {},
   "source": [
    "## 2. Create a new local repository"
   ]
  },
  {
   "cell_type": "markdown",
   "id": "07d86ea5",
   "metadata": {},
   "source": [
    "- git init"
   ]
  },
  {
   "cell_type": "markdown",
   "id": "2cdc9258",
   "metadata": {},
   "source": [
    "## 3. Add one or more files to staging area"
   ]
  },
  {
   "cell_type": "markdown",
   "id": "898462e0",
   "metadata": {},
   "source": [
    "- git add * or git add \\<filename>"
   ]
  },
  {
   "cell_type": "markdown",
   "id": "5bbdef5a",
   "metadata": {},
   "source": [
    "## 4. Commit changes to head (but not yet to the remote repository)"
   ]
  },
  {
   "cell_type": "markdown",
   "id": "c036dd17",
   "metadata": {},
   "source": [
    "- git commit -m \"commit message \""
   ]
  },
  {
   "cell_type": "markdown",
   "id": "33f0d793",
   "metadata": {},
   "source": [
    "## 5. Send changes to the master branch of your remote repository"
   ]
  },
  {
   "cell_type": "markdown",
   "id": "8a195d5d",
   "metadata": {},
   "source": [
    "- git push origin master"
   ]
  },
  {
   "cell_type": "markdown",
   "id": "edcc2753",
   "metadata": {},
   "source": [
    "## 6. List the files you've changed and those you still need to add or commit."
   ]
  },
  {
   "cell_type": "markdown",
   "id": "3a39bfa6",
   "metadata": {},
   "source": [
    "- git status"
   ]
  },
  {
   "cell_type": "markdown",
   "id": "e508724d",
   "metadata": {},
   "source": [
    "## 7. Create a working copy of a local repository."
   ]
  },
  {
   "cell_type": "markdown",
   "id": "0d7ab806",
   "metadata": {},
   "source": [
    "- git clone /path/to/repository"
   ]
  },
  {
   "cell_type": "markdown",
   "id": "846b18e9",
   "metadata": {},
   "source": [
    "## 7. Create a new branch and switch to it."
   ]
  },
  {
   "cell_type": "markdown",
   "id": "d8b01d26",
   "metadata": {},
   "source": [
    "- git checkout -b \\<branchname>"
   ]
  },
  {
   "cell_type": "markdown",
   "id": "81c9e215",
   "metadata": {},
   "source": [
    "## 8. Switch from one branch to another."
   ]
  },
  {
   "cell_type": "markdown",
   "id": "00e30a03",
   "metadata": {},
   "source": [
    "- git checkout \\<branchname>"
   ]
  },
  {
   "cell_type": "markdown",
   "id": "f0858ac6",
   "metadata": {},
   "source": [
    "## 9. List all the branches in your repo, and also tell you what branch you're currently in."
   ]
  },
  {
   "cell_type": "markdown",
   "id": "9b883525",
   "metadata": {},
   "source": [
    "- git branch"
   ]
  },
  {
   "cell_type": "markdown",
   "id": "23f2653a",
   "metadata": {},
   "source": [
    "## 10. Delete the feature branch."
   ]
  },
  {
   "cell_type": "markdown",
   "id": "53154a9c",
   "metadata": {},
   "source": [
    "- git branch -d \\<branchname>"
   ]
  },
  {
   "cell_type": "markdown",
   "id": "ae1f5336",
   "metadata": {},
   "source": [
    "## 11. Push the branch to your remote repository, so others can use it."
   ]
  },
  {
   "cell_type": "markdown",
   "id": "0ba1b635",
   "metadata": {},
   "source": [
    "- git push origin \\<branchname>"
   ]
  },
  {
   "cell_type": "markdown",
   "id": "9a2364e0",
   "metadata": {},
   "source": [
    "## 12. Push all branches to your remote repository."
   ]
  },
  {
   "cell_type": "markdown",
   "id": "9c93eb3a",
   "metadata": {},
   "source": [
    "- git push --all origin"
   ]
  }
 ],
 "metadata": {
  "kernelspec": {
   "display_name": "Python 3 (ipykernel)",
   "language": "python",
   "name": "python3"
  },
  "language_info": {
   "codemirror_mode": {
    "name": "ipython",
    "version": 3
   },
   "file_extension": ".py",
   "mimetype": "text/x-python",
   "name": "python",
   "nbconvert_exporter": "python",
   "pygments_lexer": "ipython3",
   "version": "3.9.13"
  }
 },
 "nbformat": 4,
 "nbformat_minor": 5
}
